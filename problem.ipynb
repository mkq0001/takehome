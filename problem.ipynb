{
 "cells": [
  {
   "cell_type": "markdown",
   "metadata": {},
   "source": [
    "### Question 1\n",
    "\n",
    "The returns.csv.gz file holds daily returns for 200 assets, recorded at the market close from the previous close, spanning across 400 days. A random portion of the data has been chosen and removed, resulting in around 1% of the data being absent. Impute the missing values."
   ]
  },
  {
   "cell_type": "markdown",
   "metadata": {},
   "source": [
    "### Question 2\n",
    "\n",
    "Continuing with the returns.csv.gz file, could you please provide the anticipated volatility, i.e. the expected annualized standard deviation of returns, for a portfolio which evenly allocates 1/200 of the total investment in each asset. Additionally, find the long-short portfolio with the lowest expected volatility and whose holdings sum up to 1."
   ]
  },
  {
   "cell_type": "markdown",
   "metadata": {},
   "source": [
    "### Question 3\n",
    "\n",
    "An analyst has provided you with ten signal candidates in the file signals.csv.gz to assist in predicting the returns of 200 assets. These signals are labeled as \"f_?\" and \"s_?\", and they may be derived from company fundamentals, market data, or alternative data sources. The signals exhibit varying turnover rates and autocorrelation structures. Like the returns, the signals are observed at the market close each day. Your task is to predict the returns of the 200 assets for the date d_0400."
   ]
  },
  {
   "cell_type": "code",
   "execution_count": null,
   "metadata": {},
   "outputs": [],
   "source": []
  },
  {
   "cell_type": "markdown",
   "metadata": {},
   "source": [
    "The candidate may select a convenient three-day window to complete the test, with an expected total workload of approximately three hours. During this period, Yuan Shen (yuan.shen@gsacapital.com) will serve as the primary contact for any questions. Candidates are encouraged to seek clarification on problems and guidance on specific approaches. We expect submissions to include: \n",
    "1. A summary of the main thought process and conclusion, enabling readers to understand the work without reviewing the code.\n",
    "2. Readable, self-explanatory code that can be easily inspected for debugging purposes.\n",
    "\n",
    "The submission format is flexible:\n",
    "1. .py file or a zip archive of .py files for the source code implementation, along with a summary document in any of the following formats: .pdf, .doc, .html, .md, or even .txt.\n",
    "2. .ipynb if both code and summary are included in an IPython notebook.\n",
    "3. If you code in C++ or Java, please also include the Makefiles or build scripts along with the source code."
   ]
  }
 ],
 "metadata": {
  "kernelspec": {
   "display_name": "Python 3 (ipykernel)",
   "language": "python",
   "name": "python3"
  },
  "language_info": {
   "codemirror_mode": {
    "name": "ipython",
    "version": 3
   },
   "file_extension": ".py",
   "mimetype": "text/x-python",
   "name": "python",
   "nbconvert_exporter": "python",
   "pygments_lexer": "ipython3",
   "version": "3.11.5"
  }
 },
 "nbformat": 4,
 "nbformat_minor": 2
}
