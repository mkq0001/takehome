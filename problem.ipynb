{
 "cells": [
  {
   "cell_type": "markdown",
   "metadata": {},
   "source": [
    "### Question 1\n",
    "\n",
    "The returns.csv.gz file holds daily returns for 200 assets, recorded at the market close from the previous close, spanning across 1000 days. A random portion of the data has been chosen and removed, resulting in around 1% of the data being absent. Impute the missing values."
   ]
  },
  {
   "cell_type": "markdown",
   "metadata": {},
   "source": [
    "### Question 2\n",
    "Continuing with the returns.csv.gz file, could you please provide the anticipated volatility, i.e. the expected annualized standard deviation of returns, for a portfolio which evenly allocates 1/200 of the total investment in each asset. Additionally, find the long-short portfolio with the lowest expected volatility and whose holdings add up to 1."
   ]
  },
  {
   "cell_type": "markdown",
   "metadata": {},
   "source": [
    "### Question 3\n",
    "An analyst has provided you with ten signal candidates in the signals.csv.gz file to aid in predicting the returns of the 200 assets. The signals labeled as 'f_?' are considered to be company fundamental characteristics that evolve gradually, while those labeled as 's_?' are derived from either market data or alternative data sources. The signals, similar to the returns, are observed at the market close each day. Predict the returns of these 200 assets on date d_1000."
   ]
  }
 ],
 "metadata": {
  "kernelspec": {
   "display_name": "Python 3 (ipykernel)",
   "language": "python",
   "name": "python3"
  },
  "language_info": {
   "codemirror_mode": {
    "name": "ipython",
    "version": 3
   },
   "file_extension": ".py",
   "mimetype": "text/x-python",
   "name": "python",
   "nbconvert_exporter": "python",
   "pygments_lexer": "ipython3",
   "version": "3.8.11"
  }
 },
 "nbformat": 4,
 "nbformat_minor": 2
}
