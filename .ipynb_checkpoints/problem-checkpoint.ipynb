{
 "cells": [
  {
   "cell_type": "markdown",
   "metadata": {},
   "source": [
    "### Question 1\n",
    "\n",
    "The returns.csv.gz file holds daily returns for 200 assets, recorded at the market close from the previous close, spanning across 400 days. A random portion of the data has been chosen and removed, resulting in around 1% of the data being absent. Impute the missing values."
   ]
  },
  {
   "cell_type": "markdown",
   "metadata": {},
   "source": [
    "### Question 2\n",
    "Continuing with the returns.csv.gz file, could you please provide the anticipated volatility, i.e. the expected annualized standard deviation of returns, for a portfolio which evenly allocates 1/200 of the total investment in each asset. Additionally, find the long-short portfolio with the lowest expected volatility and whose holdings sum up to 1."
   ]
  },
  {
   "cell_type": "markdown",
   "metadata": {},
   "source": [
    "### Question 3\n",
    "An analyst has provided you with ten signal candidates in the file signals.csv.gz to assist in predicting the returns of 200 assets. These signals are labeled as \"f_?\" and \"s_?\", and they may be derived from company fundamentals, market data, or alternative data sources. The signals exhibit varying turnover rates and autocorrelation structures. Like the returns, the signals are observed at the market close each day. Your task is to predict the returns of the 200 assets for the date d_0400."
   ]
  },
  {
   "cell_type": "code",
   "execution_count": null,
   "metadata": {},
   "outputs": [],
   "source": []
  }
 ],
 "metadata": {
  "kernelspec": {
   "display_name": "Python 3 (ipykernel)",
   "language": "python",
   "name": "python3"
  },
  "language_info": {
   "codemirror_mode": {
    "name": "ipython",
    "version": 3
   },
   "file_extension": ".py",
   "mimetype": "text/x-python",
   "name": "python",
   "nbconvert_exporter": "python",
   "pygments_lexer": "ipython3",
   "version": "3.11.5"
  }
 },
 "nbformat": 4,
 "nbformat_minor": 2
}
